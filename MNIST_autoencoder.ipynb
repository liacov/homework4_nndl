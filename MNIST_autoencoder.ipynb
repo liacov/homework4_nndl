{
 "cells": [
  {
   "cell_type": "code",
   "execution_count": 1,
   "metadata": {},
   "outputs": [],
   "source": [
    "import os\n",
    "import torch\n",
    "import pickle\n",
    "import random\n",
    "import numpy as np\n",
    "from autoencoder import *\n",
    "from sklearn.model_selection import KFold\n",
    "\n",
    "from torch import nn\n",
    "from torch.utils.data import DataLoader, Subset\n",
    "from torchvision import transforms\n",
    "from torchvision.datasets import MNIST\n",
    "from tqdm.notebook import tqdm\n",
    "import matplotlib.pyplot as plt"
   ]
  },
  {
   "cell_type": "code",
   "execution_count": 2,
   "metadata": {},
   "outputs": [],
   "source": [
    "\n",
    "encoded_space_dim = 8 # hidden layer dimension - TODO tuning"
   ]
  },
  {
   "cell_type": "code",
   "execution_count": 3,
   "metadata": {
    "scrolled": true
   },
   "outputs": [],
   "source": [
    "#%% Define paths\n",
    "\n",
    "data_root_dir = './dataset'\n",
    "\n",
    "\n",
    "#%% Create dataset\n",
    "\n",
    "train_transform = transforms.Compose([\n",
    "    transforms.ToTensor(),\n",
    "])\n",
    "\n",
    "test_transform = transforms.Compose([\n",
    "    transforms.ToTensor(),\n",
    "])\n",
    "\n",
    "train_dataset = MNIST(data_root_dir, train=True,  download=True, transform=train_transform)\n",
    "test_dataset  = MNIST(data_root_dir, train=False, download=True, transform=test_transform)"
   ]
  },
  {
   "cell_type": "code",
   "execution_count": 4,
   "metadata": {
    "scrolled": true
   },
   "outputs": [
    {
     "data": {
      "image/png": "[encoded data removed]",
      "text/plain": [
       "<Figure size 576x576 with 25 Axes>"
      ]
     },
     "metadata": {},
     "output_type": "display_data"
    }
   ],
   "source": [
    "### Plot some sample\n",
    "plt.close('all')\n",
    "fig, axs = plt.subplots(5, 5, figsize=(8,8))\n",
    "for ax in axs.flatten():\n",
    "    img, label = random.choice(train_dataset)\n",
    "    ax.imshow(img.squeeze().numpy(), cmap='gist_gray')\n",
    "    ax.set_title('Label: %d' % label)\n",
    "    ax.set_xticks([])\n",
    "    ax.set_yticks([])\n",
    "plt.tight_layout()"
   ]
  },
  {
   "cell_type": "code",
   "execution_count": 5,
   "metadata": {},
   "outputs": [],
   "source": [
    "### Initialize the network\n",
    "net = Autoencoder(encoded_space_dim=encoded_space_dim)"
   ]
  },
  {
   "cell_type": "code",
   "execution_count": 6,
   "metadata": {},
   "outputs": [
    {
     "name": "stdout",
     "output_type": "stream",
     "text": [
      "Original image shape: torch.Size([1, 1, 28, 28])\n",
      "Encoded image shape: torch.Size([1, 8])\n",
      "Decoded image shape: torch.Size([1, 1, 28, 28])\n"
     ]
    }
   ],
   "source": [
    "### Some examples\n",
    "# Take an input image (remember to add the batch dimension)\n",
    "img = test_dataset[0][0].unsqueeze(0)\n",
    "print('Original image shape:', img.shape)\n",
    "# Encode the image\n",
    "img_enc = net.encode(img)\n",
    "print('Encoded image shape:', img_enc.shape)\n",
    "# Decode the image\n",
    "dec_img = net.decode(img_enc)\n",
    "print('Decoded image shape:', dec_img.shape)"
   ]
  },
  {
   "cell_type": "code",
   "execution_count": 7,
   "metadata": {},
   "outputs": [
    {
     "name": "stdout",
     "output_type": "stream",
     "text": [
      "### ARCHITECTURE ###\n"
     ]
    },
    {
     "data": {
      "text/plain": [
       "Autoencoder(\n",
       "  (encoder_cnn): Sequential(\n",
       "    (0): Conv2d(1, 8, kernel_size=(3, 3), stride=(2, 2), padding=(1, 1))\n",
       "    (1): ReLU(inplace=True)\n",
       "    (2): Conv2d(8, 16, kernel_size=(3, 3), stride=(2, 2), padding=(1, 1))\n",
       "    (3): ReLU(inplace=True)\n",
       "    (4): Conv2d(16, 32, kernel_size=(3, 3), stride=(2, 2))\n",
       "    (5): ReLU(inplace=True)\n",
       "  )\n",
       "  (encoder_lin): Sequential(\n",
       "    (0): Linear(in_features=288, out_features=64, bias=True)\n",
       "    (1): ReLU(inplace=True)\n",
       "    (2): Linear(in_features=64, out_features=8, bias=True)\n",
       "  )\n",
       "  (decoder_lin): Sequential(\n",
       "    (0): Linear(in_features=8, out_features=64, bias=True)\n",
       "    (1): ReLU(inplace=True)\n",
       "    (2): Linear(in_features=64, out_features=288, bias=True)\n",
       "    (3): ReLU(inplace=True)\n",
       "  )\n",
       "  (decoder_conv): Sequential(\n",
       "    (0): ConvTranspose2d(32, 16, kernel_size=(3, 3), stride=(2, 2))\n",
       "    (1): ReLU(inplace=True)\n",
       "    (2): ConvTranspose2d(16, 8, kernel_size=(3, 3), stride=(2, 2), padding=(1, 1), output_padding=(1, 1))\n",
       "    (3): ReLU(inplace=True)\n",
       "    (4): ConvTranspose2d(8, 1, kernel_size=(3, 3), stride=(2, 2), padding=(1, 1), output_padding=(1, 1))\n",
       "  )\n",
       ")"
      ]
     },
     "execution_count": 7,
     "metadata": {},
     "output_type": "execute_result"
    }
   ],
   "source": [
    "#%% Prepare training\n",
    "\n",
    "### Dimension of the batch\n",
    "batch_size = 1000\n",
    "\n",
    "### Define dataloader\n",
    "train_dataloader = DataLoader(train_dataset, batch_size=batch_size, shuffle=True)\n",
    "test_dataloader = DataLoader(test_dataset, batch_size=batch_size, shuffle=False)\n",
    "\n",
    "### Define a loss function\n",
    "loss_fn = torch.nn.MSELoss()\n",
    "\n",
    "### Define an optimizer\n",
    "lr = 1e-3 # Learning rate\n",
    "optim = torch.optim.Adam(net.parameters(), lr=lr, weight_decay=1e-5)\n",
    "\n",
    "device = torch.device(\"cpu\")\n",
    "# Move all the network parameters to the selected device (if they are already on that device nothing happens)\n",
    "print('### ARCHITECTURE ###')\n",
    "net.to(device)"
   ]
  },
  {
   "cell_type": "code",
   "execution_count": 8,
   "metadata": {
    "scrolled": true
   },
   "outputs": [
    {
     "name": "stdout",
     "output_type": "stream",
     "text": [
      "EPOCH 1/20\n",
      "\t partial train loss: 0.198732\n",
      "\t partial train loss: 0.198405\n",
      "\t partial train loss: 0.197921\n",
      "\t partial train loss: 0.197662\n",
      "\t partial train loss: 0.197143\n",
      "\t partial train loss: 0.196956\n",
      "\t partial train loss: 0.196591\n",
      "\t partial train loss: 0.196218\n",
      "\t partial train loss: 0.195824\n",
      "\t partial train loss: 0.195559\n",
      "\t partial train loss: 0.195224\n",
      "\t partial train loss: 0.194814\n",
      "\t partial train loss: 0.194556\n",
      "\t partial train loss: 0.194376\n",
      "\t partial train loss: 0.193805\n",
      "\t partial train loss: 0.193400\n",
      "\t partial train loss: 0.193055\n",
      "\t partial train loss: 0.192571\n",
      "\t partial train loss: 0.192106\n",
      "\t partial train loss: 0.191741\n",
      "\t partial train loss: 0.191289\n",
      "\t partial train loss: 0.190730\n",
      "\t partial train loss: 0.190192\n",
      "\t partial train loss: 0.189599\n",
      "\t partial train loss: 0.188689\n",
      "\t partial train loss: 0.188002\n",
      "\t partial train loss: 0.186987\n",
      "\t partial train loss: 0.185667\n",
      "\t partial train loss: 0.184216\n",
      "\t partial train loss: 0.182122\n",
      "\t partial train loss: 0.179732\n",
      "\t partial train loss: 0.177421\n",
      "\t partial train loss: 0.174776\n",
      "\t partial train loss: 0.172556\n",
      "\t partial train loss: 0.169854\n",
      "\t partial train loss: 0.167574\n",
      "\t partial train loss: 0.165105\n",
      "\t partial train loss: 0.161725\n",
      "\t partial train loss: 0.158249\n",
      "\t partial train loss: 0.154744\n",
      "\t partial train loss: 0.150042\n",
      "\t partial train loss: 0.145146\n",
      "\t partial train loss: 0.140259\n",
      "\t partial train loss: 0.135265\n",
      "\t partial train loss: 0.127820\n",
      "\t partial train loss: 0.121372\n",
      "\t partial train loss: 0.115340\n",
      "\t partial train loss: 0.109865\n",
      "\t partial train loss: 0.103488\n",
      "\t partial train loss: 0.098455\n",
      "\t partial train loss: 0.096718\n",
      "\t partial train loss: 0.093396\n",
      "\t partial train loss: 0.091196\n",
      "\t partial train loss: 0.090355\n",
      "\t partial train loss: 0.090733\n",
      "\t partial train loss: 0.087229\n",
      "\t partial train loss: 0.085501\n",
      "\t partial train loss: 0.085481\n",
      "\t partial train loss: 0.084057\n",
      "\t partial train loss: 0.083066\n",
      "\n",
      "\n",
      "\t VALIDATION - EPOCH 1/20 - loss: 0.083522\n",
      "\n",
      "\n"
     ]
    },
    {
     "data": {
      "image/png": "[encoded data removed]",
      "text/plain": [
       "<Figure size 864x432 with 2 Axes>"
      ]
     },
     "metadata": {
      "needs_background": "light"
     },
     "output_type": "display_data"
    },
    {
     "data": {
      "text/plain": [
       "<Figure size 432x288 with 0 Axes>"
      ]
     },
     "metadata": {},
     "output_type": "display_data"
    },
    {
     "name": "stdout",
     "output_type": "stream",
     "text": [
      "EPOCH 2/20\n",
      "\t partial train loss: 0.082007\n",
      "\t partial train loss: 0.082418\n",
      "\t partial train loss: 0.080515\n",
      "\t partial train loss: 0.081274\n",
      "\t partial train loss: 0.080592\n",
      "\t partial train loss: 0.080324\n",
      "\t partial train loss: 0.078116\n",
      "\t partial train loss: 0.077819\n",
      "\t partial train loss: 0.077830\n",
      "\t partial train loss: 0.075493\n",
      "\t partial train loss: 0.074820\n",
      "\t partial train loss: 0.075686\n",
      "\t partial train loss: 0.075595\n",
      "\t partial train loss: 0.073349\n",
      "\t partial train loss: 0.073409\n",
      "\t partial train loss: 0.073178\n",
      "\t partial train loss: 0.072326\n",
      "\t partial train loss: 0.072369\n",
      "\t partial train loss: 0.073381\n",
      "\t partial train loss: 0.072619\n",
      "\t partial train loss: 0.072116\n",
      "\t partial train loss: 0.071895\n",
      "\t partial train loss: 0.071137\n",
      "\t partial train loss: 0.071995\n",
      "\t partial train loss: 0.072367\n",
      "\t partial train loss: 0.070266\n",
      "\t partial train loss: 0.070626\n",
      "\t partial train loss: 0.070462\n",
      "\t partial train loss: 0.071335\n",
      "\t partial train loss: 0.071015\n",
      "\t partial train loss: 0.069801\n",
      "\t partial train loss: 0.071009\n",
      "\t partial train loss: 0.069960\n",
      "\t partial train loss: 0.069844\n",
      "\t partial train loss: 0.071262\n",
      "\t partial train loss: 0.070330\n",
      "\t partial train loss: 0.069416\n",
      "\t partial train loss: 0.070560\n",
      "\t partial train loss: 0.069911\n",
      "\t partial train loss: 0.069378\n",
      "\t partial train loss: 0.069435\n",
      "\t partial train loss: 0.070237\n",
      "\t partial train loss: 0.069574\n",
      "\t partial train loss: 0.068388\n",
      "\t partial train loss: 0.070153\n",
      "\t partial train loss: 0.069161\n",
      "\t partial train loss: 0.069801\n",
      "\t partial train loss: 0.069336\n",
      "\t partial train loss: 0.069079\n",
      "\t partial train loss: 0.069876\n",
      "\t partial train loss: 0.069231\n",
      "\t partial train loss: 0.070517\n",
      "\t partial train loss: 0.068693\n",
      "\t partial train loss: 0.068799\n",
      "\t partial train loss: 0.068585\n",
      "\t partial train loss: 0.070039\n",
      "\t partial train loss: 0.069039\n",
      "\t partial train loss: 0.069676\n",
      "\t partial train loss: 0.069383\n",
      "\t partial train loss: 0.068871\n",
      "\n",
      "\n",
      "\t VALIDATION - EPOCH 2/20 - loss: 0.069192\n",
      "\n",
      "\n"
     ]
    },
    {
     "data": {
      "image/png": "[encoded data removed]",
      "text/plain": [
       "<Figure size 864x432 with 2 Axes>"
      ]
     },
     "metadata": {
      "needs_background": "light"
     },
     "output_type": "display_data"
    },
    {
     "data": {
      "text/plain": [
       "<Figure size 432x288 with 0 Axes>"
      ]
     },
     "metadata": {},
     "output_type": "display_data"
    },
    {
     "name": "stdout",
     "output_type": "stream",
     "text": [
      "EPOCH 3/20\n",
      "\t partial train loss: 0.068235\n",
      "\t partial train loss: 0.068352\n",
      "\t partial train loss: 0.068625\n",
      "\t partial train loss: 0.068649\n",
      "\t partial train loss: 0.069774\n",
      "\t partial train loss: 0.068678\n",
      "\t partial train loss: 0.069104\n",
      "\t partial train loss: 0.068095\n",
      "\t partial train loss: 0.069333\n",
      "\t partial train loss: 0.069320\n",
      "\t partial train loss: 0.068279\n",
      "\t partial train loss: 0.068527\n",
      "\t partial train loss: 0.068527\n",
      "\t partial train loss: 0.069293\n",
      "\t partial train loss: 0.066624\n",
      "\t partial train loss: 0.068149\n",
      "\t partial train loss: 0.067392\n",
      "\t partial train loss: 0.069609\n",
      "\t partial train loss: 0.069123\n",
      "\t partial train loss: 0.067876\n",
      "\t partial train loss: 0.067231\n",
      "\t partial train loss: 0.067715\n",
      "\t partial train loss: 0.067903\n",
      "\t partial train loss: 0.067379\n",
      "\t partial train loss: 0.066961\n",
      "\t partial train loss: 0.067365\n",
      "\t partial train loss: 0.068612\n",
      "\t partial train loss: 0.069111\n",
      "\t partial train loss: 0.067926\n",
      "\t partial train loss: 0.067899\n",
      "\t partial train loss: 0.066363\n",
      "\t partial train loss: 0.066833\n",
      "\t partial train loss: 0.068664\n",
      "\t partial train loss: 0.066991\n",
      "\t partial train loss: 0.067996\n",
      "\t partial train loss: 0.066782\n",
      "\t partial train loss: 0.067911\n",
      "\t partial train loss: 0.066335\n",
      "\t partial train loss: 0.067308\n",
      "\t partial train loss: 0.067365\n",
      "\t partial train loss: 0.066607\n",
      "\t partial train loss: 0.064827\n",
      "\t partial train loss: 0.067352\n",
      "\t partial train loss: 0.068361\n",
      "\t partial train loss: 0.066576\n",
      "\t partial train loss: 0.066483\n",
      "\t partial train loss: 0.067122\n",
      "\t partial train loss: 0.066200\n",
      "\t partial train loss: 0.066314\n",
      "\t partial train loss: 0.066197\n",
      "\t partial train loss: 0.066853\n",
      "\t partial train loss: 0.066064\n",
      "\t partial train loss: 0.065273\n",
      "\t partial train loss: 0.064957\n",
      "\t partial train loss: 0.066282\n",
      "\t partial train loss: 0.064912\n",
      "\t partial train loss: 0.066128\n",
      "\t partial train loss: 0.064982\n",
      "\t partial train loss: 0.067278\n",
      "\t partial train loss: 0.066124\n",
      "\n",
      "\n",
      "\t VALIDATION - EPOCH 3/20 - loss: 0.066165\n",
      "\n",
      "\n"
     ]
    },
    {
     "data": {
      "image/png": "[encoded data removed]",
      "text/plain": [
       "<Figure size 864x432 with 2 Axes>"
      ]
     },
     "metadata": {
      "needs_background": "light"
     },
     "output_type": "display_data"
    },
    {
     "data": {
      "text/plain": [
       "<Figure size 432x288 with 0 Axes>"
      ]
     },
     "metadata": {},
     "output_type": "display_data"
    },
    {
     "name": "stdout",
     "output_type": "stream",
     "text": [
      "EPOCH 4/20\n",
      "\t partial train loss: 0.065365\n",
      "\t partial train loss: 0.065930\n",
      "\t partial train loss: 0.065845\n",
      "\t partial train loss: 0.065152\n",
      "\t partial train loss: 0.065780\n",
      "\t partial train loss: 0.066046\n",
      "\t partial train loss: 0.065547\n",
      "\t partial train loss: 0.066253\n",
      "\t partial train loss: 0.065641\n",
      "\t partial train loss: 0.065042\n",
      "\t partial train loss: 0.065353\n",
      "\t partial train loss: 0.065265\n",
      "\t partial train loss: 0.065258\n",
      "\t partial train loss: 0.065723\n",
      "\t partial train loss: 0.065523\n",
      "\t partial train loss: 0.066374\n",
      "\t partial train loss: 0.065588\n",
      "\t partial train loss: 0.066191\n",
      "\t partial train loss: 0.065439\n",
      "\t partial train loss: 0.065754\n",
      "\t partial train loss: 0.065595\n",
      "\t partial train loss: 0.065027\n",
      "\t partial train loss: 0.065351\n",
      "\t partial train loss: 0.064710\n",
      "\t partial train loss: 0.064474\n",
      "\t partial train loss: 0.065333\n",
      "\t partial train loss: 0.064871\n",
      "\t partial train loss: 0.065150\n",
      "\t partial train loss: 0.065326\n",
      "\t partial train loss: 0.064244\n",
      "\t partial train loss: 0.065380\n",
      "\t partial train loss: 0.065619\n",
      "\t partial train loss: 0.064805\n",
      "\t partial train loss: 0.064033\n",
      "\t partial train loss: 0.065609\n",
      "\t partial train loss: 0.064903\n",
      "\t partial train loss: 0.065357\n",
      "\t partial train loss: 0.064245\n",
      "\t partial train loss: 0.064661\n",
      "\t partial train loss: 0.065496\n",
      "\t partial train loss: 0.065715\n",
      "\t partial train loss: 0.065917\n",
      "\t partial train loss: 0.064439\n",
      "\t partial train loss: 0.064981\n",
      "\t partial train loss: 0.064773\n",
      "\t partial train loss: 0.064364\n",
      "\t partial train loss: 0.064727\n",
      "\t partial train loss: 0.065160\n",
      "\t partial train loss: 0.065609\n",
      "\t partial train loss: 0.065022\n",
      "\t partial train loss: 0.063460\n",
      "\t partial train loss: 0.064210\n",
      "\t partial train loss: 0.065201\n",
      "\t partial train loss: 0.063971\n",
      "\t partial train loss: 0.064276\n",
      "\t partial train loss: 0.065856\n",
      "\t partial train loss: 0.064316\n",
      "\t partial train loss: 0.064564\n",
      "\t partial train loss: 0.065147\n",
      "\t partial train loss: 0.064762\n",
      "\n",
      "\n",
      "\t VALIDATION - EPOCH 4/20 - loss: 0.064984\n",
      "\n",
      "\n"
     ]
    },
    {
     "data": {
      "image/png": "[encoded data removed]",
      "text/plain": [
       "<Figure size 864x432 with 2 Axes>"
      ]
     },
     "metadata": {
      "needs_background": "light"
     },
     "output_type": "display_data"
    },
    {
     "data": {
      "text/plain": [
       "<Figure size 432x288 with 0 Axes>"
      ]
     },
     "metadata": {},
     "output_type": "display_data"
    },
    {
     "name": "stdout",
     "output_type": "stream",
     "text": [
      "EPOCH 5/20\n",
      "\t partial train loss: 0.064835\n",
      "\t partial train loss: 0.064694\n",
      "\t partial train loss: 0.064737\n",
      "\t partial train loss: 0.064738\n",
      "\t partial train loss: 0.065115\n",
      "\t partial train loss: 0.064010\n",
      "\t partial train loss: 0.064821\n",
      "\t partial train loss: 0.064940\n",
      "\t partial train loss: 0.063875\n",
      "\t partial train loss: 0.065097\n",
      "\t partial train loss: 0.065080\n",
      "\t partial train loss: 0.064668\n",
      "\t partial train loss: 0.063645\n",
      "\t partial train loss: 0.064812\n",
      "\t partial train loss: 0.065085\n",
      "\t partial train loss: 0.064442\n",
      "\t partial train loss: 0.064324\n",
      "\t partial train loss: 0.064258\n",
      "\t partial train loss: 0.065874\n",
      "\t partial train loss: 0.064960\n",
      "\t partial train loss: 0.065720\n",
      "\t partial train loss: 0.064573\n",
      "\t partial train loss: 0.064201\n",
      "\t partial train loss: 0.064369\n",
      "\t partial train loss: 0.065590\n",
      "\t partial train loss: 0.063149\n",
      "\t partial train loss: 0.063999\n",
      "\t partial train loss: 0.062771\n",
      "\t partial train loss: 0.064263\n",
      "\t partial train loss: 0.063769\n",
      "\t partial train loss: 0.063461\n",
      "\t partial train loss: 0.065575\n",
      "\t partial train loss: 0.063855\n",
      "\t partial train loss: 0.062661\n",
      "\t partial train loss: 0.064167\n",
      "\t partial train loss: 0.064417\n",
      "\t partial train loss: 0.064325\n",
      "\t partial train loss: 0.063555\n",
      "\t partial train loss: 0.063817\n",
      "\t partial train loss: 0.064415\n",
      "\t partial train loss: 0.063910\n",
      "\t partial train loss: 0.063858\n",
      "\t partial train loss: 0.062710\n",
      "\t partial train loss: 0.063464\n",
      "\t partial train loss: 0.063873\n",
      "\t partial train loss: 0.063210\n",
      "\t partial train loss: 0.063457\n",
      "\t partial train loss: 0.063440\n",
      "\t partial train loss: 0.063553\n",
      "\t partial train loss: 0.063522\n",
      "\t partial train loss: 0.062901\n",
      "\t partial train loss: 0.062616\n",
      "\t partial train loss: 0.063849\n",
      "\t partial train loss: 0.063320\n",
      "\t partial train loss: 0.064003\n",
      "\t partial train loss: 0.062644\n",
      "\t partial train loss: 0.063263\n",
      "\t partial train loss: 0.063033\n",
      "\t partial train loss: 0.062460\n",
      "\t partial train loss: 0.062516\n",
      "\n",
      "\n",
      "\t VALIDATION - EPOCH 5/20 - loss: 0.063263\n",
      "\n",
      "\n"
     ]
    },
    {
     "data": {
      "image/png": "[encoded data removed]",
      "text/plain": [
       "<Figure size 864x432 with 2 Axes>"
      ]
     },
     "metadata": {
      "needs_background": "light"
     },
     "output_type": "display_data"
    },
    {
     "data": {
      "text/plain": [
       "<Figure size 432x288 with 0 Axes>"
      ]
     },
     "metadata": {},
     "output_type": "display_data"
    },
    {
     "name": "stdout",
     "output_type": "stream",
     "text": [
      "EPOCH 6/20\n",
      "\t partial train loss: 0.062407\n",
      "\t partial train loss: 0.062196\n",
      "\t partial train loss: 0.062436\n",
      "\t partial train loss: 0.062698\n",
      "\t partial train loss: 0.061923\n",
      "\t partial train loss: 0.063532\n",
      "\t partial train loss: 0.062853\n",
      "\t partial train loss: 0.062313\n",
      "\t partial train loss: 0.062979\n",
      "\t partial train loss: 0.062085\n",
      "\t partial train loss: 0.062857\n",
      "\t partial train loss: 0.063193\n",
      "\t partial train loss: 0.062895\n",
      "\t partial train loss: 0.062034\n",
      "\t partial train loss: 0.063171\n",
      "\t partial train loss: 0.061398\n",
      "\t partial train loss: 0.063680\n",
      "\t partial train loss: 0.062190\n",
      "\t partial train loss: 0.061441\n",
      "\t partial train loss: 0.061927\n",
      "\t partial train loss: 0.061608\n",
      "\t partial train loss: 0.062520\n",
      "\t partial train loss: 0.061155\n",
      "\t partial train loss: 0.061612\n",
      "\t partial train loss: 0.061564\n",
      "\t partial train loss: 0.060203\n",
      "\t partial train loss: 0.060733\n",
      "\t partial train loss: 0.062616\n",
      "\t partial train loss: 0.060670\n",
      "\t partial train loss: 0.061286\n",
      "\t partial train loss: 0.062010\n",
      "\t partial train loss: 0.061033\n",
      "\t partial train loss: 0.060253\n",
      "\t partial train loss: 0.060920\n",
      "\t partial train loss: 0.061570\n",
      "\t partial train loss: 0.061308\n",
      "\t partial train loss: 0.061120\n",
      "\t partial train loss: 0.060166\n",
      "\t partial train loss: 0.061651\n",
      "\t partial train loss: 0.061086\n",
      "\t partial train loss: 0.060518\n",
      "\t partial train loss: 0.059472\n",
      "\t partial train loss: 0.060973\n",
      "\t partial train loss: 0.060220\n",
      "\t partial train loss: 0.061860\n",
      "\t partial train loss: 0.060366\n",
      "\t partial train loss: 0.061126\n",
      "\t partial train loss: 0.059941\n",
      "\t partial train loss: 0.060446\n",
      "\t partial train loss: 0.060708\n",
      "\t partial train loss: 0.060340\n",
      "\t partial train loss: 0.060573\n",
      "\t partial train loss: 0.060541\n",
      "\t partial train loss: 0.059967\n",
      "\t partial train loss: 0.059962\n",
      "\t partial train loss: 0.060776\n",
      "\t partial train loss: 0.059891\n",
      "\t partial train loss: 0.059905\n",
      "\t partial train loss: 0.060333\n",
      "\t partial train loss: 0.060397\n",
      "\n",
      "\n",
      "\t VALIDATION - EPOCH 6/20 - loss: 0.060172\n",
      "\n",
      "\n"
     ]
    },
    {
     "data": {
      "image/png": "[encoded data removed]",
      "text/plain": [
       "<Figure size 864x432 with 2 Axes>"
      ]
     },
     "metadata": {
      "needs_background": "light"
     },
     "output_type": "display_data"
    },
    {
     "data": {
      "text/plain": [
       "<Figure size 432x288 with 0 Axes>"
      ]
     },
     "metadata": {},
     "output_type": "display_data"
    },
    {
     "name": "stdout",
     "output_type": "stream",
     "text": [
      "EPOCH 7/20\n",
      "\t partial train loss: 0.059797\n",
      "\t partial train loss: 0.059546\n",
      "\t partial train loss: 0.059144\n",
      "\t partial train loss: 0.060331\n",
      "\t partial train loss: 0.059877\n",
      "\t partial train loss: 0.060151\n",
      "\t partial train loss: 0.059736\n",
      "\t partial train loss: 0.059952\n",
      "\t partial train loss: 0.059632\n",
      "\t partial train loss: 0.059226\n",
      "\t partial train loss: 0.059809\n",
      "\t partial train loss: 0.059094\n",
      "\t partial train loss: 0.060087\n",
      "\t partial train loss: 0.058863\n",
      "\t partial train loss: 0.059234\n",
      "\t partial train loss: 0.058528\n",
      "\t partial train loss: 0.057813\n",
      "\t partial train loss: 0.059193\n",
      "\t partial train loss: 0.058722\n",
      "\t partial train loss: 0.057332\n",
      "\t partial train loss: 0.057608\n",
      "\t partial train loss: 0.058799\n",
      "\t partial train loss: 0.057900\n",
      "\t partial train loss: 0.058016\n",
      "\t partial train loss: 0.058823\n",
      "\t partial train loss: 0.057647\n",
      "\t partial train loss: 0.056846\n",
      "\t partial train loss: 0.056181\n",
      "\t partial train loss: 0.058476\n",
      "\t partial train loss: 0.056877\n",
      "\t partial train loss: 0.057326\n",
      "\t partial train loss: 0.055299\n",
      "\t partial train loss: 0.056805\n",
      "\t partial train loss: 0.057472\n",
      "\t partial train loss: 0.056154\n",
      "\t partial train loss: 0.055834\n",
      "\t partial train loss: 0.055735\n",
      "\t partial train loss: 0.055362\n",
      "\t partial train loss: 0.056038\n",
      "\t partial train loss: 0.055843\n",
      "\t partial train loss: 0.056913\n",
      "\t partial train loss: 0.056105\n",
      "\t partial train loss: 0.056272\n",
      "\t partial train loss: 0.056387\n",
      "\t partial train loss: 0.056503\n",
      "\t partial train loss: 0.056787\n",
      "\t partial train loss: 0.056567\n",
      "\t partial train loss: 0.055371\n",
      "\t partial train loss: 0.054755\n",
      "\t partial train loss: 0.054473\n",
      "\t partial train loss: 0.054137\n",
      "\t partial train loss: 0.055641\n",
      "\t partial train loss: 0.055233\n",
      "\t partial train loss: 0.055124\n",
      "\t partial train loss: 0.054896\n",
      "\t partial train loss: 0.055048\n",
      "\t partial train loss: 0.054240\n",
      "\t partial train loss: 0.054802\n",
      "\t partial train loss: 0.054831\n",
      "\t partial train loss: 0.054717\n",
      "\n",
      "\n",
      "\t VALIDATION - EPOCH 7/20 - loss: 0.054382\n",
      "\n",
      "\n"
     ]
    },
    {
     "data": {
      "image/png": "[encoded data removed]",
      "text/plain": [
       "<Figure size 864x432 with 2 Axes>"
      ]
     },
     "metadata": {
      "needs_background": "light"
     },
     "output_type": "display_data"
    },
    {
     "data": {
      "text/plain": [
       "<Figure size 432x288 with 0 Axes>"
      ]
     },
     "metadata": {},
     "output_type": "display_data"
    },
    {
     "name": "stdout",
     "output_type": "stream",
     "text": [
      "EPOCH 8/20\n",
      "\t partial train loss: 0.054547\n",
      "\t partial train loss: 0.054581\n",
      "\t partial train loss: 0.054108\n",
      "\t partial train loss: 0.054024\n",
      "\t partial train loss: 0.054185\n",
      "\t partial train loss: 0.054209\n",
      "\t partial train loss: 0.054246\n",
      "\t partial train loss: 0.053453\n",
      "\t partial train loss: 0.054193\n",
      "\t partial train loss: 0.054239\n",
      "\t partial train loss: 0.053132\n",
      "\t partial train loss: 0.053375\n",
      "\t partial train loss: 0.053519\n",
      "\t partial train loss: 0.053096\n",
      "\t partial train loss: 0.053790\n",
      "\t partial train loss: 0.054204\n",
      "\t partial train loss: 0.053020\n",
      "\t partial train loss: 0.053084\n",
      "\t partial train loss: 0.053581\n",
      "\t partial train loss: 0.053224\n",
      "\t partial train loss: 0.053895\n",
      "\t partial train loss: 0.052801\n",
      "\t partial train loss: 0.052792\n",
      "\t partial train loss: 0.053624\n",
      "\t partial train loss: 0.053169\n",
      "\t partial train loss: 0.052666\n",
      "\t partial train loss: 0.054200\n",
      "\t partial train loss: 0.053041\n",
      "\t partial train loss: 0.053380\n",
      "\t partial train loss: 0.052670\n",
      "\t partial train loss: 0.053367\n",
      "\t partial train loss: 0.052067\n",
      "\t partial train loss: 0.052831\n",
      "\t partial train loss: 0.052102\n",
      "\t partial train loss: 0.052534\n",
      "\t partial train loss: 0.052539\n",
      "\t partial train loss: 0.051899\n",
      "\t partial train loss: 0.052061\n",
      "\t partial train loss: 0.051914\n",
      "\t partial train loss: 0.051997\n",
      "\t partial train loss: 0.051880\n",
      "\t partial train loss: 0.051957\n",
      "\t partial train loss: 0.052383\n",
      "\t partial train loss: 0.051704\n",
      "\t partial train loss: 0.051997\n",
      "\t partial train loss: 0.052252\n",
      "\t partial train loss: 0.052797\n",
      "\t partial train loss: 0.050305\n",
      "\t partial train loss: 0.051490\n",
      "\t partial train loss: 0.050872\n",
      "\t partial train loss: 0.052223\n",
      "\t partial train loss: 0.051272\n",
      "\t partial train loss: 0.051207\n",
      "\t partial train loss: 0.050979\n",
      "\t partial train loss: 0.050803\n",
      "\t partial train loss: 0.050969\n",
      "\t partial train loss: 0.051232\n",
      "\t partial train loss: 0.050543\n",
      "\t partial train loss: 0.050538\n",
      "\t partial train loss: 0.050566\n",
      "\n",
      "\n",
      "\t VALIDATION - EPOCH 8/20 - loss: 0.050637\n",
      "\n",
      "\n"
     ]
    },
    {
     "data": {
      "image/png": "[encoded data removed]",
      "text/plain": [
       "<Figure size 864x432 with 2 Axes>"
      ]
     },
     "metadata": {
      "needs_background": "light"
     },
     "output_type": "display_data"
    },
    {
     "data": {
      "text/plain": [
       "<Figure size 432x288 with 0 Axes>"
      ]
     },
     "metadata": {},
     "output_type": "display_data"
    },
    {
     "name": "stdout",
     "output_type": "stream",
     "text": [
      "EPOCH 9/20\n",
      "\t partial train loss: 0.050304\n",
      "\t partial train loss: 0.051499\n",
      "\t partial train loss: 0.051102\n",
      "\t partial train loss: 0.050097\n",
      "\t partial train loss: 0.050662\n",
      "\t partial train loss: 0.050339\n",
      "\t partial train loss: 0.049596\n",
      "\t partial train loss: 0.050474\n",
      "\t partial train loss: 0.050900\n",
      "\t partial train loss: 0.050026\n",
      "\t partial train loss: 0.049641\n",
      "\t partial train loss: 0.049807\n",
      "\t partial train loss: 0.048596\n",
      "\t partial train loss: 0.049693\n",
      "\t partial train loss: 0.049272\n",
      "\t partial train loss: 0.049845\n",
      "\t partial train loss: 0.049444\n",
      "\t partial train loss: 0.048547\n",
      "\t partial train loss: 0.049018\n",
      "\t partial train loss: 0.049048\n",
      "\t partial train loss: 0.048452\n",
      "\t partial train loss: 0.047338\n",
      "\t partial train loss: 0.048144\n",
      "\t partial train loss: 0.048433\n",
      "\t partial train loss: 0.048345\n",
      "\t partial train loss: 0.047300\n",
      "\t partial train loss: 0.048980\n",
      "\t partial train loss: 0.048305\n",
      "\t partial train loss: 0.048435\n",
      "\t partial train loss: 0.048846\n",
      "\t partial train loss: 0.048417\n",
      "\t partial train loss: 0.047998\n",
      "\t partial train loss: 0.048314\n",
      "\t partial train loss: 0.047220\n",
      "\t partial train loss: 0.048065\n",
      "\t partial train loss: 0.047251\n",
      "\t partial train loss: 0.047177\n",
      "\t partial train loss: 0.047717\n",
      "\t partial train loss: 0.047628\n",
      "\t partial train loss: 0.047008\n",
      "\t partial train loss: 0.047295\n",
      "\t partial train loss: 0.047478\n",
      "\t partial train loss: 0.046057\n",
      "\t partial train loss: 0.047428\n",
      "\t partial train loss: 0.045741\n",
      "\t partial train loss: 0.046670\n",
      "\t partial train loss: 0.046318\n",
      "\t partial train loss: 0.046037\n",
      "\t partial train loss: 0.046091\n",
      "\t partial train loss: 0.045733\n",
      "\t partial train loss: 0.046248\n",
      "\t partial train loss: 0.044975\n",
      "\t partial train loss: 0.045765\n",
      "\t partial train loss: 0.044592\n",
      "\t partial train loss: 0.045579\n",
      "\t partial train loss: 0.045142\n",
      "\t partial train loss: 0.045021\n",
      "\t partial train loss: 0.043754\n",
      "\t partial train loss: 0.044646\n",
      "\t partial train loss: 0.043891\n",
      "\n",
      "\n",
      "\t VALIDATION - EPOCH 9/20 - loss: 0.044023\n",
      "\n",
      "\n"
     ]
    },
    {
     "data": {
      "image/png": "[encoded data removed]",
      "text/plain": [
       "<Figure size 864x432 with 2 Axes>"
      ]
     },
     "metadata": {
      "needs_background": "light"
     },
     "output_type": "display_data"
    },
    {
     "data": {
      "text/plain": [
       "<Figure size 432x288 with 0 Axes>"
      ]
     },
     "metadata": {},
     "output_type": "display_data"
    },
    {
     "name": "stdout",
     "output_type": "stream",
     "text": [
      "EPOCH 10/20\n",
      "\t partial train loss: 0.043856\n",
      "\t partial train loss: 0.043507\n",
      "\t partial train loss: 0.043800\n",
      "\t partial train loss: 0.043912\n",
      "\t partial train loss: 0.043896\n",
      "\t partial train loss: 0.043241\n",
      "\t partial train loss: 0.043541\n",
      "\t partial train loss: 0.042968\n",
      "\t partial train loss: 0.042981\n",
      "\t partial train loss: 0.043397\n",
      "\t partial train loss: 0.042726\n",
      "\t partial train loss: 0.042447\n",
      "\t partial train loss: 0.042966\n",
      "\t partial train loss: 0.042433\n",
      "\t partial train loss: 0.042602\n",
      "\t partial train loss: 0.041402\n",
      "\t partial train loss: 0.043027\n",
      "\t partial train loss: 0.042340\n",
      "\t partial train loss: 0.043172\n",
      "\t partial train loss: 0.042949\n",
      "\t partial train loss: 0.043392\n",
      "\t partial train loss: 0.042502\n",
      "\t partial train loss: 0.042668\n",
      "\t partial train loss: 0.042098\n",
      "\t partial train loss: 0.041291\n",
      "\t partial train loss: 0.040813\n",
      "\t partial train loss: 0.041872\n",
      "\t partial train loss: 0.041798\n",
      "\t partial train loss: 0.041218\n",
      "\t partial train loss: 0.041579\n",
      "\t partial train loss: 0.041369\n",
      "\t partial train loss: 0.040179\n",
      "\t partial train loss: 0.041388\n",
      "\t partial train loss: 0.040822\n",
      "\t partial train loss: 0.040526\n",
      "\t partial train loss: 0.040274\n",
      "\t partial train loss: 0.040466\n",
      "\t partial train loss: 0.040432\n",
      "\t partial train loss: 0.041225\n",
      "\t partial train loss: 0.040975\n",
      "\t partial train loss: 0.040485\n",
      "\t partial train loss: 0.040277\n",
      "\t partial train loss: 0.039922\n",
      "\t partial train loss: 0.040983\n",
      "\t partial train loss: 0.039916\n",
      "\t partial train loss: 0.040263\n",
      "\t partial train loss: 0.039390\n",
      "\t partial train loss: 0.039628\n",
      "\t partial train loss: 0.040240\n",
      "\t partial train loss: 0.039280\n",
      "\t partial train loss: 0.039956\n",
      "\t partial train loss: 0.039530\n",
      "\t partial train loss: 0.039828\n",
      "\t partial train loss: 0.039868\n",
      "\t partial train loss: 0.038888\n",
      "\t partial train loss: 0.038548\n",
      "\t partial train loss: 0.039252\n",
      "\t partial train loss: 0.038083\n",
      "\t partial train loss: 0.038961\n",
      "\t partial train loss: 0.039668\n",
      "\n",
      "\n",
      "\t VALIDATION - EPOCH 10/20 - loss: 0.038466\n",
      "\n",
      "\n"
     ]
    },
    {
     "data": {
      "image/png": "[encoded data removed]",
      "text/plain": [
       "<Figure size 864x432 with 2 Axes>"
      ]
     },
     "metadata": {
      "needs_background": "light"
     },
     "output_type": "display_data"
    },
    {
     "data": {
      "text/plain": [
       "<Figure size 432x288 with 0 Axes>"
      ]
     },
     "metadata": {},
     "output_type": "display_data"
    },
    {
     "name": "stdout",
     "output_type": "stream",
     "text": [
      "EPOCH 11/20\n",
      "\t partial train loss: 0.038874\n",
      "\t partial train loss: 0.038766\n",
      "\t partial train loss: 0.038420\n",
      "\t partial train loss: 0.038175\n",
      "\t partial train loss: 0.038357\n",
      "\t partial train loss: 0.037597\n",
      "\t partial train loss: 0.038875\n",
      "\t partial train loss: 0.038197\n",
      "\t partial train loss: 0.037729\n",
      "\t partial train loss: 0.037235\n",
      "\t partial train loss: 0.037910\n",
      "\t partial train loss: 0.037915\n",
      "\t partial train loss: 0.038088\n",
      "\t partial train loss: 0.038024\n",
      "\t partial train loss: 0.037589\n",
      "\t partial train loss: 0.037016\n",
      "\t partial train loss: 0.037737\n",
      "\t partial train loss: 0.037111\n",
      "\t partial train loss: 0.037287\n",
      "\t partial train loss: 0.037655\n",
      "\t partial train loss: 0.037716\n",
      "\t partial train loss: 0.037275\n",
      "\t partial train loss: 0.037263\n",
      "\t partial train loss: 0.037019\n",
      "\t partial train loss: 0.036813\n",
      "\t partial train loss: 0.036314\n",
      "\t partial train loss: 0.037086\n",
      "\t partial train loss: 0.037093\n",
      "\t partial train loss: 0.036760\n",
      "\t partial train loss: 0.036521\n",
      "\t partial train loss: 0.035970\n",
      "\t partial train loss: 0.036582\n",
      "\t partial train loss: 0.036138\n",
      "\t partial train loss: 0.036577\n",
      "\t partial train loss: 0.037220\n",
      "\t partial train loss: 0.036819\n",
      "\t partial train loss: 0.035841\n",
      "\t partial train loss: 0.036242\n",
      "\t partial train loss: 0.036010\n",
      "\t partial train loss: 0.036554\n",
      "\t partial train loss: 0.036144\n",
      "\t partial train loss: 0.036384\n",
      "\t partial train loss: 0.035469\n",
      "\t partial train loss: 0.036344\n",
      "\t partial train loss: 0.036364\n",
      "\t partial train loss: 0.035577\n",
      "\t partial train loss: 0.035301\n",
      "\t partial train loss: 0.036482\n",
      "\t partial train loss: 0.035533\n",
      "\t partial train loss: 0.036127\n",
      "\t partial train loss: 0.035058\n",
      "\t partial train loss: 0.035895\n",
      "\t partial train loss: 0.035784\n",
      "\t partial train loss: 0.035908\n",
      "\t partial train loss: 0.034388\n",
      "\t partial train loss: 0.036094\n",
      "\t partial train loss: 0.035182\n",
      "\t partial train loss: 0.036300\n",
      "\t partial train loss: 0.035516\n",
      "\t partial train loss: 0.034803\n",
      "\n",
      "\n",
      "\t VALIDATION - EPOCH 11/20 - loss: 0.034940\n",
      "\n",
      "\n"
     ]
    },
    {
     "data": {
      "image/png": "[encoded data removed]",
      "text/plain": [
       "<Figure size 864x432 with 2 Axes>"
      ]
     },
     "metadata": {
      "needs_background": "light"
     },
     "output_type": "display_data"
    },
    {
     "data": {
      "text/plain": [
       "<Figure size 432x288 with 0 Axes>"
      ]
     },
     "metadata": {},
     "output_type": "display_data"
    },
    {
     "name": "stdout",
     "output_type": "stream",
     "text": [
      "EPOCH 12/20\n",
      "\t partial train loss: 0.034545\n",
      "\t partial train loss: 0.035185\n",
      "\t partial train loss: 0.034982\n",
      "\t partial train loss: 0.035023\n",
      "\t partial train loss: 0.035062\n",
      "\t partial train loss: 0.034553\n",
      "\t partial train loss: 0.034762\n",
      "\t partial train loss: 0.035114\n",
      "\t partial train loss: 0.034889\n",
      "\t partial train loss: 0.035192\n",
      "\t partial train loss: 0.033922\n",
      "\t partial train loss: 0.033861\n",
      "\t partial train loss: 0.034846\n",
      "\t partial train loss: 0.035474\n",
      "\t partial train loss: 0.033836\n",
      "\t partial train loss: 0.035040\n",
      "\t partial train loss: 0.034356\n",
      "\t partial train loss: 0.034762\n",
      "\t partial train loss: 0.034331\n",
      "\t partial train loss: 0.035318\n",
      "\t partial train loss: 0.035356\n",
      "\t partial train loss: 0.034182\n",
      "\t partial train loss: 0.034771\n",
      "\t partial train loss: 0.034872\n",
      "\t partial train loss: 0.035215\n",
      "\t partial train loss: 0.034086\n",
      "\t partial train loss: 0.034579\n",
      "\t partial train loss: 0.035556\n",
      "\t partial train loss: 0.034692\n",
      "\t partial train loss: 0.034325\n",
      "\t partial train loss: 0.033946\n",
      "\t partial train loss: 0.035019\n",
      "\t partial train loss: 0.034567\n",
      "\t partial train loss: 0.034734\n",
      "\t partial train loss: 0.033640\n",
      "\t partial train loss: 0.033850\n",
      "\t partial train loss: 0.033398\n",
      "\t partial train loss: 0.034001\n",
      "\t partial train loss: 0.034267\n",
      "\t partial train loss: 0.034194\n",
      "\t partial train loss: 0.034040\n",
      "\t partial train loss: 0.034448\n",
      "\t partial train loss: 0.033892\n",
      "\t partial train loss: 0.034380\n",
      "\t partial train loss: 0.033230\n",
      "\t partial train loss: 0.033737\n",
      "\t partial train loss: 0.034233\n",
      "\t partial train loss: 0.033224\n",
      "\t partial train loss: 0.034268\n",
      "\t partial train loss: 0.034323\n",
      "\t partial train loss: 0.032744\n",
      "\t partial train loss: 0.033967\n",
      "\t partial train loss: 0.033790\n",
      "\t partial train loss: 0.033066\n",
      "\t partial train loss: 0.033593\n",
      "\t partial train loss: 0.033650\n",
      "\t partial train loss: 0.033645\n",
      "\t partial train loss: 0.033960\n",
      "\t partial train loss: 0.033933\n",
      "\t partial train loss: 0.034336\n",
      "\n",
      "\n",
      "\t VALIDATION - EPOCH 12/20 - loss: 0.033071\n",
      "\n",
      "\n"
     ]
    },
    {
     "data": {
      "image/png": "[encoded data removed]",
      "text/plain": [
       "<Figure size 864x432 with 2 Axes>"
      ]
     },
     "metadata": {
      "needs_background": "light"
     },
     "output_type": "display_data"
    },
    {
     "data": {
      "text/plain": [
       "<Figure size 432x288 with 0 Axes>"
      ]
     },
     "metadata": {},
     "output_type": "display_data"
    },
    {
     "name": "stdout",
     "output_type": "stream",
     "text": [
      "EPOCH 13/20\n",
      "\t partial train loss: 0.033293\n",
      "\t partial train loss: 0.033221\n",
      "\t partial train loss: 0.033635\n",
      "\t partial train loss: 0.033797\n",
      "\t partial train loss: 0.033364\n",
      "\t partial train loss: 0.032842\n",
      "\t partial train loss: 0.033594\n",
      "\t partial train loss: 0.032658\n",
      "\t partial train loss: 0.033001\n",
      "\t partial train loss: 0.032439\n",
      "\t partial train loss: 0.033392\n",
      "\t partial train loss: 0.033397\n",
      "\t partial train loss: 0.032709\n",
      "\t partial train loss: 0.033612\n",
      "\t partial train loss: 0.033290\n",
      "\t partial train loss: 0.032791\n",
      "\t partial train loss: 0.032876\n",
      "\t partial train loss: 0.032486\n",
      "\t partial train loss: 0.033034\n",
      "\t partial train loss: 0.032979\n",
      "\t partial train loss: 0.033086\n",
      "\t partial train loss: 0.033037\n",
      "\t partial train loss: 0.033162\n",
      "\t partial train loss: 0.033076\n",
      "\t partial train loss: 0.033115\n",
      "\t partial train loss: 0.032708\n",
      "\t partial train loss: 0.032474\n",
      "\t partial train loss: 0.033018\n",
      "\t partial train loss: 0.033538\n",
      "\t partial train loss: 0.032809\n",
      "\t partial train loss: 0.032301\n",
      "\t partial train loss: 0.032984\n",
      "\t partial train loss: 0.033311\n",
      "\t partial train loss: 0.032483\n",
      "\t partial train loss: 0.032600\n",
      "\t partial train loss: 0.033797\n",
      "\t partial train loss: 0.032695\n",
      "\t partial train loss: 0.032882\n",
      "\t partial train loss: 0.031863\n",
      "\t partial train loss: 0.032355\n",
      "\t partial train loss: 0.033379\n",
      "\t partial train loss: 0.032756\n",
      "\t partial train loss: 0.033174\n",
      "\t partial train loss: 0.031691\n",
      "\t partial train loss: 0.032299\n",
      "\t partial train loss: 0.032313\n",
      "\t partial train loss: 0.032305\n",
      "\t partial train loss: 0.032434\n",
      "\t partial train loss: 0.032934\n",
      "\t partial train loss: 0.033129\n",
      "\t partial train loss: 0.033249\n",
      "\t partial train loss: 0.033279\n",
      "\t partial train loss: 0.032015\n",
      "\t partial train loss: 0.032716\n",
      "\t partial train loss: 0.032380\n",
      "\t partial train loss: 0.032182\n",
      "\t partial train loss: 0.031824\n",
      "\t partial train loss: 0.031391\n",
      "\t partial train loss: 0.031600\n",
      "\t partial train loss: 0.032155\n",
      "\n",
      "\n",
      "\t VALIDATION - EPOCH 13/20 - loss: 0.031811\n",
      "\n",
      "\n"
     ]
    },
    {
     "data": {
      "image/png": "[encoded data removed]",
      "text/plain": [
       "<Figure size 864x432 with 2 Axes>"
      ]
     },
     "metadata": {
      "needs_background": "light"
     },
     "output_type": "display_data"
    },
    {
     "data": {
      "text/plain": [
       "<Figure size 432x288 with 0 Axes>"
      ]
     },
     "metadata": {},
     "output_type": "display_data"
    },
    {
     "name": "stdout",
     "output_type": "stream",
     "text": [
      "EPOCH 14/20\n",
      "\t partial train loss: 0.032032\n",
      "\t partial train loss: 0.032117\n",
      "\t partial train loss: 0.032345\n",
      "\t partial train loss: 0.032055\n",
      "\t partial train loss: 0.032755\n",
      "\t partial train loss: 0.031249\n",
      "\t partial train loss: 0.031739\n",
      "\t partial train loss: 0.031643\n",
      "\t partial train loss: 0.031943\n",
      "\t partial train loss: 0.031804\n",
      "\t partial train loss: 0.031617\n",
      "\t partial train loss: 0.031640\n",
      "\t partial train loss: 0.030618\n",
      "\t partial train loss: 0.031373\n",
      "\t partial train loss: 0.032222\n",
      "\t partial train loss: 0.031392\n",
      "\t partial train loss: 0.031560\n",
      "\t partial train loss: 0.031475\n",
      "\t partial train loss: 0.031498\n",
      "\t partial train loss: 0.031479\n",
      "\t partial train loss: 0.031427\n",
      "\t partial train loss: 0.031807\n",
      "\t partial train loss: 0.031399\n",
      "\t partial train loss: 0.031879\n",
      "\t partial train loss: 0.031794\n",
      "\t partial train loss: 0.031817\n",
      "\t partial train loss: 0.031912\n",
      "\t partial train loss: 0.032126\n",
      "\t partial train loss: 0.032102\n",
      "\t partial train loss: 0.031728\n",
      "\t partial train loss: 0.031971\n",
      "\t partial train loss: 0.031303\n",
      "\t partial train loss: 0.030771\n",
      "\t partial train loss: 0.030776\n",
      "\t partial train loss: 0.030767\n",
      "\t partial train loss: 0.030533\n",
      "\t partial train loss: 0.031624\n",
      "\t partial train loss: 0.030958\n",
      "\t partial train loss: 0.031012\n",
      "\t partial train loss: 0.031516\n",
      "\t partial train loss: 0.031233\n",
      "\t partial train loss: 0.031332\n",
      "\t partial train loss: 0.030731\n",
      "\t partial train loss: 0.031054\n",
      "\t partial train loss: 0.031516\n",
      "\t partial train loss: 0.030833\n",
      "\t partial train loss: 0.031155\n",
      "\t partial train loss: 0.031345\n",
      "\t partial train loss: 0.031016\n",
      "\t partial train loss: 0.030821\n",
      "\t partial train loss: 0.031605\n",
      "\t partial train loss: 0.030738\n",
      "\t partial train loss: 0.030652\n",
      "\t partial train loss: 0.031510\n",
      "\t partial train loss: 0.029672\n",
      "\t partial train loss: 0.030900\n",
      "\t partial train loss: 0.030292\n",
      "\t partial train loss: 0.030553\n",
      "\t partial train loss: 0.030153\n",
      "\t partial train loss: 0.030304\n",
      "\n",
      "\n",
      "\t VALIDATION - EPOCH 14/20 - loss: 0.030125\n",
      "\n",
      "\n"
     ]
    },
    {
     "data": {
      "image/png": "[encoded data removed]",
      "text/plain": [
       "<Figure size 864x432 with 2 Axes>"
      ]
     },
     "metadata": {
      "needs_background": "light"
     },
     "output_type": "display_data"
    },
    {
     "data": {
      "text/plain": [
       "<Figure size 432x288 with 0 Axes>"
      ]
     },
     "metadata": {},
     "output_type": "display_data"
    },
    {
     "name": "stdout",
     "output_type": "stream",
     "text": [
      "EPOCH 15/20\n",
      "\t partial train loss: 0.031319\n",
      "\t partial train loss: 0.030144\n",
      "\t partial train loss: 0.030899\n",
      "\t partial train loss: 0.030268\n",
      "\t partial train loss: 0.030119\n",
      "\t partial train loss: 0.030732\n",
      "\t partial train loss: 0.030609\n",
      "\t partial train loss: 0.030587\n",
      "\t partial train loss: 0.029834\n",
      "\t partial train loss: 0.030239\n",
      "\t partial train loss: 0.029782\n",
      "\t partial train loss: 0.030899\n",
      "\t partial train loss: 0.029536\n",
      "\t partial train loss: 0.029451\n",
      "\t partial train loss: 0.029882\n",
      "\t partial train loss: 0.029934\n",
      "\t partial train loss: 0.029220\n",
      "\t partial train loss: 0.029708\n",
      "\t partial train loss: 0.029377\n",
      "\t partial train loss: 0.030455\n",
      "\t partial train loss: 0.029628\n",
      "\t partial train loss: 0.030008\n",
      "\t partial train loss: 0.030272\n",
      "\t partial train loss: 0.029589\n",
      "\t partial train loss: 0.030450\n",
      "\t partial train loss: 0.029613\n",
      "\t partial train loss: 0.029607\n",
      "\t partial train loss: 0.029913\n",
      "\t partial train loss: 0.030332\n",
      "\t partial train loss: 0.029323\n",
      "\t partial train loss: 0.029601\n",
      "\t partial train loss: 0.029709\n",
      "\t partial train loss: 0.030344\n",
      "\t partial train loss: 0.028967\n",
      "\t partial train loss: 0.029316\n",
      "\t partial train loss: 0.028570\n",
      "\t partial train loss: 0.029831\n",
      "\t partial train loss: 0.029483\n",
      "\t partial train loss: 0.029196\n",
      "\t partial train loss: 0.029346\n",
      "\t partial train loss: 0.029066\n",
      "\t partial train loss: 0.030240\n",
      "\t partial train loss: 0.028871\n",
      "\t partial train loss: 0.029655\n",
      "\t partial train loss: 0.028626\n",
      "\t partial train loss: 0.028584\n",
      "\t partial train loss: 0.028786\n",
      "\t partial train loss: 0.029276\n",
      "\t partial train loss: 0.028879\n",
      "\t partial train loss: 0.029843\n",
      "\t partial train loss: 0.029146\n",
      "\t partial train loss: 0.029406\n",
      "\t partial train loss: 0.029662\n",
      "\t partial train loss: 0.029900\n",
      "\t partial train loss: 0.029334\n",
      "\t partial train loss: 0.029297\n",
      "\t partial train loss: 0.028714\n",
      "\t partial train loss: 0.029158\n",
      "\t partial train loss: 0.029212\n",
      "\t partial train loss: 0.029244\n",
      "\n",
      "\n",
      "\t VALIDATION - EPOCH 15/20 - loss: 0.028575\n",
      "\n",
      "\n"
     ]
    },
    {
     "data": {
      "image/png": "[encoded data removed]",
      "text/plain": [
       "<Figure size 864x432 with 2 Axes>"
      ]
     },
     "metadata": {
      "needs_background": "light"
     },
     "output_type": "display_data"
    },
    {
     "data": {
      "text/plain": [
       "<Figure size 432x288 with 0 Axes>"
      ]
     },
     "metadata": {},
     "output_type": "display_data"
    },
    {
     "name": "stdout",
     "output_type": "stream",
     "text": [
      "EPOCH 16/20\n",
      "\t partial train loss: 0.029125\n",
      "\t partial train loss: 0.028314\n",
      "\t partial train loss: 0.029074\n",
      "\t partial train loss: 0.028707\n",
      "\t partial train loss: 0.029341\n",
      "\t partial train loss: 0.028442\n",
      "\t partial train loss: 0.029274\n",
      "\t partial train loss: 0.028855\n",
      "\t partial train loss: 0.028924\n",
      "\t partial train loss: 0.028407\n",
      "\t partial train loss: 0.028747\n",
      "\t partial train loss: 0.028258\n",
      "\t partial train loss: 0.029037\n",
      "\t partial train loss: 0.029500\n",
      "\t partial train loss: 0.028019\n",
      "\t partial train loss: 0.028183\n",
      "\t partial train loss: 0.029171\n",
      "\t partial train loss: 0.028646\n",
      "\t partial train loss: 0.028700\n",
      "\t partial train loss: 0.029264\n",
      "\t partial train loss: 0.028482\n",
      "\t partial train loss: 0.028470\n",
      "\t partial train loss: 0.028579\n",
      "\t partial train loss: 0.028848\n",
      "\t partial train loss: 0.029014\n",
      "\t partial train loss: 0.027849\n",
      "\t partial train loss: 0.028031\n",
      "\t partial train loss: 0.028179\n",
      "\t partial train loss: 0.027956\n",
      "\t partial train loss: 0.028701\n",
      "\t partial train loss: 0.029137\n",
      "\t partial train loss: 0.029103\n",
      "\t partial train loss: 0.028002\n",
      "\t partial train loss: 0.028111\n",
      "\t partial train loss: 0.028551\n",
      "\t partial train loss: 0.028194\n",
      "\t partial train loss: 0.028428\n",
      "\t partial train loss: 0.028507\n",
      "\t partial train loss: 0.028315\n",
      "\t partial train loss: 0.028287\n",
      "\t partial train loss: 0.028485\n",
      "\t partial train loss: 0.028602\n",
      "\t partial train loss: 0.028177\n",
      "\t partial train loss: 0.028217\n",
      "\t partial train loss: 0.028199\n",
      "\t partial train loss: 0.027902\n",
      "\t partial train loss: 0.028912\n",
      "\t partial train loss: 0.028296\n",
      "\t partial train loss: 0.028311\n",
      "\t partial train loss: 0.028360\n",
      "\t partial train loss: 0.027894\n",
      "\t partial train loss: 0.028296\n",
      "\t partial train loss: 0.028209\n",
      "\t partial train loss: 0.028450\n",
      "\t partial train loss: 0.027851\n",
      "\t partial train loss: 0.027946\n",
      "\t partial train loss: 0.027352\n",
      "\t partial train loss: 0.027064\n",
      "\t partial train loss: 0.028189\n",
      "\t partial train loss: 0.028667\n",
      "\n",
      "\n",
      "\t VALIDATION - EPOCH 16/20 - loss: 0.027641\n",
      "\n",
      "\n"
     ]
    },
    {
     "data": {
      "image/png": "[encoded data removed]",
      "text/plain": [
       "<Figure size 864x432 with 2 Axes>"
      ]
     },
     "metadata": {
      "needs_background": "light"
     },
     "output_type": "display_data"
    },
    {
     "data": {
      "text/plain": [
       "<Figure size 432x288 with 0 Axes>"
      ]
     },
     "metadata": {},
     "output_type": "display_data"
    },
    {
     "name": "stdout",
     "output_type": "stream",
     "text": [
      "EPOCH 17/20\n",
      "\t partial train loss: 0.027510\n",
      "\t partial train loss: 0.027608\n",
      "\t partial train loss: 0.027688\n",
      "\t partial train loss: 0.027242\n",
      "\t partial train loss: 0.027818\n",
      "\t partial train loss: 0.028209\n",
      "\t partial train loss: 0.028196\n",
      "\t partial train loss: 0.028874\n",
      "\t partial train loss: 0.027316\n",
      "\t partial train loss: 0.027862\n",
      "\t partial train loss: 0.028441\n",
      "\t partial train loss: 0.027954\n",
      "\t partial train loss: 0.027573\n",
      "\t partial train loss: 0.027099\n",
      "\t partial train loss: 0.028109\n",
      "\t partial train loss: 0.027831\n",
      "\t partial train loss: 0.027716\n",
      "\t partial train loss: 0.027965\n",
      "\t partial train loss: 0.028108\n",
      "\t partial train loss: 0.028498\n",
      "\t partial train loss: 0.027994\n",
      "\t partial train loss: 0.027494\n",
      "\t partial train loss: 0.027835\n",
      "\t partial train loss: 0.027503\n",
      "\t partial train loss: 0.027212\n",
      "\t partial train loss: 0.027439\n",
      "\t partial train loss: 0.028134\n",
      "\t partial train loss: 0.027984\n",
      "\t partial train loss: 0.027399\n",
      "\t partial train loss: 0.027448\n",
      "\t partial train loss: 0.026785\n",
      "\t partial train loss: 0.027568\n",
      "\t partial train loss: 0.026988\n",
      "\t partial train loss: 0.026869\n",
      "\t partial train loss: 0.027908\n",
      "\t partial train loss: 0.027621\n",
      "\t partial train loss: 0.027982\n",
      "\t partial train loss: 0.027394\n",
      "\t partial train loss: 0.028196\n",
      "\t partial train loss: 0.027680\n",
      "\t partial train loss: 0.027331\n",
      "\t partial train loss: 0.027529\n",
      "\t partial train loss: 0.027099\n",
      "\t partial train loss: 0.026966\n",
      "\t partial train loss: 0.026672\n",
      "\t partial train loss: 0.027258\n",
      "\t partial train loss: 0.026608\n",
      "\t partial train loss: 0.027673\n",
      "\t partial train loss: 0.027117\n",
      "\t partial train loss: 0.027235\n",
      "\t partial train loss: 0.027512\n",
      "\t partial train loss: 0.027353\n",
      "\t partial train loss: 0.027398\n",
      "\t partial train loss: 0.027050\n",
      "\t partial train loss: 0.027502\n",
      "\t partial train loss: 0.028040\n",
      "\t partial train loss: 0.027148\n",
      "\t partial train loss: 0.027583\n",
      "\t partial train loss: 0.026901\n",
      "\t partial train loss: 0.027202\n",
      "\n",
      "\n",
      "\t VALIDATION - EPOCH 17/20 - loss: 0.026758\n",
      "\n",
      "\n"
     ]
    },
    {
     "data": {
      "image/png": "[encoded data removed]",
      "text/plain": [
       "<Figure size 864x432 with 2 Axes>"
      ]
     },
     "metadata": {
      "needs_background": "light"
     },
     "output_type": "display_data"
    },
    {
     "data": {
      "text/plain": [
       "<Figure size 432x288 with 0 Axes>"
      ]
     },
     "metadata": {},
     "output_type": "display_data"
    },
    {
     "name": "stdout",
     "output_type": "stream",
     "text": [
      "EPOCH 18/20\n",
      "\t partial train loss: 0.027248\n",
      "\t partial train loss: 0.026907\n",
      "\t partial train loss: 0.026754\n",
      "\t partial train loss: 0.026752\n",
      "\t partial train loss: 0.026656\n",
      "\t partial train loss: 0.027890\n",
      "\t partial train loss: 0.027123\n",
      "\t partial train loss: 0.026785\n",
      "\t partial train loss: 0.026887\n",
      "\t partial train loss: 0.027518\n",
      "\t partial train loss: 0.026715\n",
      "\t partial train loss: 0.027276\n",
      "\t partial train loss: 0.027288\n",
      "\t partial train loss: 0.026742\n",
      "\t partial train loss: 0.027022\n",
      "\t partial train loss: 0.026850\n",
      "\t partial train loss: 0.026909\n",
      "\t partial train loss: 0.026893\n",
      "\t partial train loss: 0.026772\n",
      "\t partial train loss: 0.026919\n",
      "\t partial train loss: 0.026953\n",
      "\t partial train loss: 0.026983\n",
      "\t partial train loss: 0.026886\n",
      "\t partial train loss: 0.027241\n",
      "\t partial train loss: 0.026986\n",
      "\t partial train loss: 0.027226\n",
      "\t partial train loss: 0.025992\n",
      "\t partial train loss: 0.026699\n",
      "\t partial train loss: 0.027301\n",
      "\t partial train loss: 0.026183\n",
      "\t partial train loss: 0.026612\n",
      "\t partial train loss: 0.026862\n",
      "\t partial train loss: 0.026551\n",
      "\t partial train loss: 0.026596\n",
      "\t partial train loss: 0.027522\n",
      "\t partial train loss: 0.026786\n",
      "\t partial train loss: 0.026461\n",
      "\t partial train loss: 0.026665\n",
      "\t partial train loss: 0.026961\n",
      "\t partial train loss: 0.027369\n",
      "\t partial train loss: 0.027006\n",
      "\t partial train loss: 0.026322\n",
      "\t partial train loss: 0.026803\n",
      "\t partial train loss: 0.026339\n",
      "\t partial train loss: 0.027247\n",
      "\t partial train loss: 0.026627\n",
      "\t partial train loss: 0.026597\n",
      "\t partial train loss: 0.027344\n",
      "\t partial train loss: 0.026844\n",
      "\t partial train loss: 0.027134\n",
      "\t partial train loss: 0.025945\n",
      "\t partial train loss: 0.026078\n",
      "\t partial train loss: 0.027029\n",
      "\t partial train loss: 0.026461\n",
      "\t partial train loss: 0.026936\n",
      "\t partial train loss: 0.027036\n",
      "\t partial train loss: 0.026509\n",
      "\t partial train loss: 0.026874\n",
      "\t partial train loss: 0.026618\n",
      "\t partial train loss: 0.026490\n",
      "\n",
      "\n",
      "\t VALIDATION - EPOCH 18/20 - loss: 0.026196\n",
      "\n",
      "\n"
     ]
    },
    {
     "data": {
      "image/png": "[encoded data removed]",
      "text/plain": [
       "<Figure size 864x432 with 2 Axes>"
      ]
     },
     "metadata": {
      "needs_background": "light"
     },
     "output_type": "display_data"
    },
    {
     "data": {
      "text/plain": [
       "<Figure size 432x288 with 0 Axes>"
      ]
     },
     "metadata": {},
     "output_type": "display_data"
    },
    {
     "name": "stdout",
     "output_type": "stream",
     "text": [
      "EPOCH 19/20\n",
      "\t partial train loss: 0.026425\n",
      "\t partial train loss: 0.026764\n",
      "\t partial train loss: 0.026660\n",
      "\t partial train loss: 0.026587\n",
      "\t partial train loss: 0.026020\n",
      "\t partial train loss: 0.026709\n",
      "\t partial train loss: 0.026699\n",
      "\t partial train loss: 0.026158\n",
      "\t partial train loss: 0.026256\n",
      "\t partial train loss: 0.027107\n",
      "\t partial train loss: 0.026718\n",
      "\t partial train loss: 0.026122\n",
      "\t partial train loss: 0.026814\n",
      "\t partial train loss: 0.025897\n",
      "\t partial train loss: 0.026187\n",
      "\t partial train loss: 0.026285\n",
      "\t partial train loss: 0.025801\n",
      "\t partial train loss: 0.026507\n",
      "\t partial train loss: 0.025792\n",
      "\t partial train loss: 0.026832\n",
      "\t partial train loss: 0.026450\n",
      "\t partial train loss: 0.025939\n",
      "\t partial train loss: 0.027044\n",
      "\t partial train loss: 0.025789\n",
      "\t partial train loss: 0.026923\n",
      "\t partial train loss: 0.026142\n",
      "\t partial train loss: 0.025704\n",
      "\t partial train loss: 0.026299\n",
      "\t partial train loss: 0.026142\n",
      "\t partial train loss: 0.026014\n",
      "\t partial train loss: 0.025512\n",
      "\t partial train loss: 0.025940\n",
      "\t partial train loss: 0.026045\n",
      "\t partial train loss: 0.026631\n",
      "\t partial train loss: 0.026174\n",
      "\t partial train loss: 0.025912\n",
      "\t partial train loss: 0.025751\n",
      "\t partial train loss: 0.026899\n",
      "\t partial train loss: 0.026456\n",
      "\t partial train loss: 0.025446\n",
      "\t partial train loss: 0.027048\n",
      "\t partial train loss: 0.026507\n",
      "\t partial train loss: 0.025997\n",
      "\t partial train loss: 0.025843\n",
      "\t partial train loss: 0.026085\n",
      "\t partial train loss: 0.026409\n",
      "\t partial train loss: 0.026781\n",
      "\t partial train loss: 0.025880\n",
      "\t partial train loss: 0.026120\n",
      "\t partial train loss: 0.026165\n",
      "\t partial train loss: 0.026136\n",
      "\t partial train loss: 0.026115\n",
      "\t partial train loss: 0.025969\n",
      "\t partial train loss: 0.025532\n",
      "\t partial train loss: 0.026043\n",
      "\t partial train loss: 0.026352\n",
      "\t partial train loss: 0.026308\n",
      "\t partial train loss: 0.025047\n",
      "\t partial train loss: 0.025411\n",
      "\t partial train loss: 0.026218\n",
      "\n",
      "\n",
      "\t VALIDATION - EPOCH 19/20 - loss: 0.025665\n",
      "\n",
      "\n"
     ]
    },
    {
     "data": {
      "image/png": "[encoded data removed]",
      "text/plain": [
       "<Figure size 864x432 with 2 Axes>"
      ]
     },
     "metadata": {
      "needs_background": "light"
     },
     "output_type": "display_data"
    },
    {
     "data": {
      "text/plain": [
       "<Figure size 432x288 with 0 Axes>"
      ]
     },
     "metadata": {},
     "output_type": "display_data"
    },
    {
     "name": "stdout",
     "output_type": "stream",
     "text": [
      "EPOCH 20/20\n",
      "\t partial train loss: 0.025185\n",
      "\t partial train loss: 0.026552\n",
      "\t partial train loss: 0.026390\n",
      "\t partial train loss: 0.025839\n",
      "\t partial train loss: 0.025611\n",
      "\t partial train loss: 0.026172\n",
      "\t partial train loss: 0.026137\n",
      "\t partial train loss: 0.026135\n",
      "\t partial train loss: 0.025914\n",
      "\t partial train loss: 0.025839\n",
      "\t partial train loss: 0.026192\n",
      "\t partial train loss: 0.026944\n",
      "\t partial train loss: 0.025162\n",
      "\t partial train loss: 0.026211\n",
      "\t partial train loss: 0.025890\n",
      "\t partial train loss: 0.025541\n",
      "\t partial train loss: 0.026027\n",
      "\t partial train loss: 0.025608\n",
      "\t partial train loss: 0.025597\n",
      "\t partial train loss: 0.025371\n",
      "\t partial train loss: 0.025707\n",
      "\t partial train loss: 0.025514\n",
      "\t partial train loss: 0.025766\n",
      "\t partial train loss: 0.026052\n",
      "\t partial train loss: 0.025910\n",
      "\t partial train loss: 0.026029\n",
      "\t partial train loss: 0.025324\n",
      "\t partial train loss: 0.025924\n",
      "\t partial train loss: 0.025132\n",
      "\t partial train loss: 0.025398\n",
      "\t partial train loss: 0.025772\n",
      "\t partial train loss: 0.025636\n",
      "\t partial train loss: 0.025386\n",
      "\t partial train loss: 0.025244\n",
      "\t partial train loss: 0.025326\n",
      "\t partial train loss: 0.025938\n",
      "\t partial train loss: 0.025955\n",
      "\t partial train loss: 0.025390\n",
      "\t partial train loss: 0.025834\n",
      "\t partial train loss: 0.025205\n",
      "\t partial train loss: 0.025855\n",
      "\t partial train loss: 0.026445\n",
      "\t partial train loss: 0.025136\n",
      "\t partial train loss: 0.024928\n",
      "\t partial train loss: 0.025685\n",
      "\t partial train loss: 0.025762\n",
      "\t partial train loss: 0.025778\n",
      "\t partial train loss: 0.025597\n",
      "\t partial train loss: 0.025554\n",
      "\t partial train loss: 0.025827\n",
      "\t partial train loss: 0.025370\n",
      "\t partial train loss: 0.025476\n",
      "\t partial train loss: 0.026186\n",
      "\t partial train loss: 0.025154\n",
      "\t partial train loss: 0.025919\n",
      "\t partial train loss: 0.024921\n",
      "\t partial train loss: 0.025292\n",
      "\t partial train loss: 0.025819\n",
      "\t partial train loss: 0.025746\n",
      "\t partial train loss: 0.025037\n",
      "\n",
      "\n",
      "\t VALIDATION - EPOCH 20/20 - loss: 0.025152\n",
      "\n",
      "\n"
     ]
    },
    {
     "data": {
      "image/png": "[encoded data removed]",
      "text/plain": [
       "<Figure size 864x432 with 2 Axes>"
      ]
     },
     "metadata": {
      "needs_background": "light"
     },
     "output_type": "display_data"
    },
    {
     "data": {
      "text/plain": [
       "<Figure size 432x288 with 0 Axes>"
      ]
     },
     "metadata": {},
     "output_type": "display_data"
    }
   ],
   "source": [
    "### Training cycle\n",
    "training = True\n",
    "num_epochs = 20\n",
    "if training:\n",
    "    for epoch in range(num_epochs):\n",
    "        print('EPOCH %d/%d' % (epoch + 1, num_epochs))\n",
    "        ### Training\n",
    "        train_epoch(net, dataloader=train_dataloader, loss_fn=loss_fn, optimizer=optim, device=device) \n",
    "        ### Validation\n",
    "        val_loss = test_epoch(net, dataloader=test_dataloader, loss_fn=loss_fn, optimizer=optim, device=device) \n",
    "        # Print Validationloss\n",
    "        print('\\n\\n\\t VALIDATION - EPOCH %d/%d - loss: %f\\n\\n' % (epoch + 1, num_epochs, val_loss))\n",
    "\n",
    "        ### Plot progress\n",
    "        img = test_dataset[0][0].unsqueeze(0).to(device)\n",
    "        net.eval()\n",
    "        with torch.no_grad():\n",
    "            rec_img  = net(img)\n",
    "        fig, axs = plt.subplots(1, 2, figsize=(12,6))\n",
    "        axs[0].imshow(img.cpu().squeeze().numpy(), cmap='gist_gray')\n",
    "        axs[0].set_title('Original image')\n",
    "        axs[1].imshow(rec_img.cpu().squeeze().numpy(), cmap='gist_gray')\n",
    "        axs[1].set_title('Reconstructed image (EPOCH %d)' % (epoch + 1))\n",
    "        plt.tight_layout()\n",
    "        plt.pause(0.1)\n",
    "        # Save figures\n",
    "        os.makedirs('autoencoder_progress_%d_features' % encoded_space_dim, exist_ok=True)\n",
    "        plt.savefig('autoencoder_progress_%d_features/epoch_%d.png' % (encoded_space_dim, epoch + 1))\n",
    "        plt.show()\n",
    "        plt.close()\n",
    "\n",
    "        # Save network parameters\n",
    "        torch.save(net.state_dict(), 'net_params.pth')\n"
   ]
  },
  {
   "cell_type": "code",
   "execution_count": null,
   "metadata": {},
   "outputs": [],
   "source": []
  }
 ],
 "metadata": {
  "kernelspec": {
   "display_name": "Python 3",
   "language": "python",
   "name": "python3"
  },
  "language_info": {
   "codemirror_mode": {
    "name": "ipython",
    "version": 3
   },
   "file_extension": ".py",
   "mimetype": "text/x-python",
   "name": "python",
   "nbconvert_exporter": "python",
   "pygments_lexer": "ipython3",
   "version": "3.7.4"
  }
 },
 "nbformat": 4,
 "nbformat_minor": 2
}
